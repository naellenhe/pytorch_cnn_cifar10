{
 "cells": [
  {
   "cell_type": "markdown",
   "metadata": {},
   "source": [
    "### Use CNN with PyTorch to learn CIFAR-10 (cuda)"
   ]
  },
  {
   "cell_type": "code",
   "execution_count": 1,
   "metadata": {},
   "outputs": [],
   "source": [
    "import torch \n",
    "import torch.nn as nn\n",
    "import torchvision\n",
    "import torchvision.transforms as transforms\n",
    "from torch.autograd import Variable\n",
    "import numpy as np\n",
    "import matplotlib.pyplot as plt\n",
    "%matplotlib inline"
   ]
  },
  {
   "cell_type": "code",
   "execution_count": 2,
   "metadata": {},
   "outputs": [],
   "source": [
    "# Hyper parameters\n",
    "num_epochs = 100\n",
    "hidden_sizes = [512]\n",
    "input_channels = 3\n",
    "num_classes = 10\n",
    "batch_size = 100\n",
    "learning_rate = 0.001"
   ]
  },
  {
   "cell_type": "code",
   "execution_count": 3,
   "metadata": {},
   "outputs": [
    {
     "data": {
      "text/plain": [
       "True"
      ]
     },
     "execution_count": 3,
     "metadata": {},
     "output_type": "execute_result"
    }
   ],
   "source": [
    "torch.cuda.is_available()"
   ]
  },
  {
   "cell_type": "code",
   "execution_count": 4,
   "metadata": {},
   "outputs": [],
   "source": [
    "device = torch.device('cuda:0' if torch.cuda.is_available() else 'cpu')"
   ]
  },
  {
   "cell_type": "markdown",
   "metadata": {},
   "source": [
    "### Load CIFAR-10 dataset\n",
    "Can be downloaded by `torchvision.datasets`\n",
    "\n",
    "https://pytorch.org/docs/stable/torchvision/datasets.html"
   ]
  },
  {
   "cell_type": "code",
   "execution_count": 5,
   "metadata": {},
   "outputs": [
    {
     "name": "stdout",
     "output_type": "stream",
     "text": [
      "Files already downloaded and verified\n",
      "Files already downloaded and verified\n"
     ]
    }
   ],
   "source": [
    "# CIFAR-10 dataset (32x32 colour images in 10 classes)\n",
    "# https://www.cs.toronto.edu/~kriz/cifar.html\n",
    "transform = transforms.Compose(\n",
    "    [transforms.ToTensor(),\n",
    "     transforms.Normalize((0.5, 0.5, 0.5), (0.5, 0.5, 0.5))])\n",
    "\n",
    "train_dataset = torchvision.datasets.CIFAR10(root='dataset/',\n",
    "                                           train=True, \n",
    "                                           transform=transform,\n",
    "                                           download=True)\n",
    "\n",
    "test_dataset = torchvision.datasets.CIFAR10(root='dataset/',\n",
    "                                          train=False, \n",
    "                                          transform=transform,\n",
    "                                          download=True)"
   ]
  },
  {
   "cell_type": "code",
   "execution_count": 6,
   "metadata": {},
   "outputs": [
    {
     "data": {
      "text/plain": [
       "<matplotlib.image.AxesImage at 0x1accc633ac8>"
      ]
     },
     "execution_count": 6,
     "metadata": {},
     "output_type": "execute_result"
    },
    {
     "data": {
      "image/png": "[encoded data removed]",
      "text/plain": [
       "<Figure size 432x288 with 1 Axes>"
      ]
     },
     "metadata": {},
     "output_type": "display_data"
    }
   ],
   "source": [
    "plt.imshow(train_dataset.train_data[0])"
   ]
  },
  {
   "cell_type": "code",
   "execution_count": 7,
   "metadata": {},
   "outputs": [
    {
     "name": "stdout",
     "output_type": "stream",
     "text": [
      "Original train size: (50000, 32, 32, 3)\n",
      "50000\n",
      "Original test size: (10000, 32, 32, 3)\n",
      "10000\n"
     ]
    }
   ],
   "source": [
    "print('Original train size:', train_dataset.train_data.shape)\n",
    "print(len(train_dataset.train_labels))\n",
    "print('Original test size:', test_dataset.test_data.shape)\n",
    "print(len(test_dataset.test_labels))"
   ]
  },
  {
   "cell_type": "code",
   "execution_count": 7,
   "metadata": {},
   "outputs": [],
   "source": [
    "# Data loader\n",
    "train_loader = torch.utils.data.DataLoader(dataset=train_dataset,\n",
    "                                           batch_size=batch_size, \n",
    "                                           shuffle=True)\n",
    "\n",
    "test_loader = torch.utils.data.DataLoader(dataset=test_dataset,\n",
    "                                          batch_size=batch_size, \n",
    "                                          shuffle=False)"
   ]
  },
  {
   "cell_type": "markdown",
   "metadata": {},
   "source": [
    "### See data dimensions and show images"
   ]
  },
  {
   "cell_type": "code",
   "execution_count": 9,
   "metadata": {},
   "outputs": [],
   "source": [
    "sample_train_data = iter(train_loader)\n",
    "images, labels = sample_train_data.next()"
   ]
  },
  {
   "cell_type": "code",
   "execution_count": null,
   "metadata": {},
   "outputs": [],
   "source": [
    "print('After DataLoader')\n",
    "print('Train dimensions:', images.shape)\n",
    "print(len(labels))"
   ]
  },
  {
   "cell_type": "code",
   "execution_count": null,
   "metadata": {},
   "outputs": [],
   "source": [
    "classes = ('plane', 'car', 'bird', 'cat',\n",
    "           'deer', 'dog', 'frog', 'horse', 'ship', 'truck')\n",
    "\n",
    "fig = plt.figure(figsize = (15, 15))\n",
    "def show_photo(img, i, lname):\n",
    "    img = img / 2 + 0.5\n",
    "    npimg = img.numpy()\n",
    "    ax = fig.add_subplot(10, 1, i)\n",
    "    ax.imshow(np.transpose(npimg, (1, 2, 0)))\n",
    "    ax.axis('off')\n",
    "    ax.set_title(label=lname, x=-0.2, y=0.3)\n",
    "\n",
    "for label, lname in enumerate(classes):\n",
    "    target_label = (labels == label)\n",
    "    imgs = images[target_label][:6]   \n",
    "    show_photo(torchvision.utils.make_grid(imgs), label + 1, lname)\n"
   ]
  },
  {
   "cell_type": "markdown",
   "metadata": {},
   "source": [
    "### Model vgg:\n",
    "\n",
    "Vgg16\n",
    "\n",
    "\n",
    "```\n",
    "Dimensions:\n",
    "-> Input(32, 32) \n",
    "-> Conv (64, 32, 32) \n",
    "-> Conv (64, 32, 32) \n",
    "-> MaxPool (64, 16, 16)\n",
    "\n",
    "-> Conv (128, 16, 16)\n",
    "-> Conv (128, 16, 16) \n",
    "-> MaxPool (128, 8, 8)\n",
    "\n",
    "-> Conv (256, 8, 8)\n",
    "-> Conv (256, 8, 8)\n",
    "-> Conv (256, 8, 8)\n",
    "-> MaxPool (256, 4, 4)\n",
    "\n",
    "-> Conv (512, 4, 4)\n",
    "-> Conv (512, 4, 4) \n",
    "-> Conv (512, 4, 4)\n",
    "-> MaxPool (512, 2, 2)\n",
    "\n",
    "-> Conv (512, 2, 2)\n",
    "-> Conv (512, 2, 2) \n",
    "-> Conv (512, 2, 2)\n",
    "-> MaxPool (512, 1, 1)\n",
    "\n",
    "-> Fully Connected Layer(Logits (10, 1) -> Softmax) -> Labels\n",
    "```"
   ]
  },
  {
   "cell_type": "markdown",
   "metadata": {},
   "source": [
    "### Build CNN model"
   ]
  },
  {
   "cell_type": "code",
   "execution_count": 8,
   "metadata": {},
   "outputs": [],
   "source": [
    "class PytorchDeepConvNetVgg(nn.Module):\n",
    "    def __init__(self, input_channels, num_classes=10):\n",
    "        super(PytorchDeepConvNetVgg, self).__init__()\n",
    "\n",
    "        # Layer 1: conv - relu - conv- relu - pool\n",
    "        self.layer1 = nn.Sequential(\n",
    "            nn.Conv2d(in_channels=input_channels, out_channels=64, kernel_size=3, stride=1, padding=1),\n",
    "            nn.BatchNorm2d(64),\n",
    "            nn.ReLU(),\n",
    "            nn.Dropout(0.3),\n",
    "            nn.Conv2d(in_channels=64, out_channels=64, kernel_size=3, stride=1, padding=1),\n",
    "            nn.BatchNorm2d(64),\n",
    "            nn.ReLU(),\n",
    "            nn.MaxPool2d(kernel_size=2, stride=2))        \n",
    "        \n",
    "        # Layer 2: conv - relu - conv- relu - pool\n",
    "        self.layer2 = nn.Sequential(\n",
    "            nn.Conv2d(in_channels=64, out_channels=128, kernel_size=3, stride=1, padding=1),\n",
    "            nn.BatchNorm2d(128),\n",
    "            nn.ReLU(),\n",
    "            nn.Dropout(0.4),\n",
    "            nn.Conv2d(in_channels=128, out_channels=128, kernel_size=3, stride=1, padding=1),\n",
    "            nn.BatchNorm2d(128),\n",
    "            nn.ReLU(),\n",
    "            nn.MaxPool2d(kernel_size=2, stride=2))\n",
    "\n",
    "        # Layer 3: conv - relu - conv- relu - pool\n",
    "        self.layer3 = nn.Sequential(\n",
    "            nn.Conv2d(in_channels=128, out_channels=256, kernel_size=3, stride=1, padding=1),\n",
    "            nn.BatchNorm2d(256),\n",
    "            nn.ReLU(),\n",
    "            nn.Dropout(0.4),\n",
    "            nn.Conv2d(in_channels=256, out_channels=256, kernel_size=3, stride=1, padding=1),\n",
    "            nn.BatchNorm2d(256),\n",
    "            nn.ReLU(),\n",
    "            nn.Dropout(0.4),\n",
    "            nn.Conv2d(in_channels=256, out_channels=256, kernel_size=3, stride=1, padding=1),\n",
    "            nn.BatchNorm2d(256),\n",
    "            nn.ReLU(),\n",
    "            nn.MaxPool2d(kernel_size=2, stride=2))\n",
    "\n",
    "        # Layer 4: conv - relu - conv- relu - pool\n",
    "        self.layer4 = nn.Sequential(\n",
    "            nn.Conv2d(in_channels=256, out_channels=512, kernel_size=3, stride=1, padding=1),\n",
    "            nn.BatchNorm2d(512),\n",
    "            nn.ReLU(),\n",
    "            nn.Dropout(0.4),\n",
    "            nn.Conv2d(in_channels=512, out_channels=512, kernel_size=3, stride=1, padding=1),\n",
    "            nn.BatchNorm2d(512),\n",
    "            nn.ReLU(),\n",
    "            nn.Dropout(0.4),\n",
    "            nn.Conv2d(in_channels=512, out_channels=512, kernel_size=3, stride=1, padding=1),\n",
    "            nn.BatchNorm2d(512),\n",
    "            nn.ReLU(),\n",
    "            nn.MaxPool2d(kernel_size=2, stride=2))\n",
    "\n",
    "        # Layer 5: conv - relu - conv- relu - pool\n",
    "        self.layer5 = nn.Sequential(\n",
    "            nn.Conv2d(in_channels=512, out_channels=512, kernel_size=3, stride=1, padding=1),\n",
    "            nn.BatchNorm2d(512),\n",
    "            nn.ReLU(),\n",
    "            nn.Dropout(0.4),\n",
    "            nn.Conv2d(in_channels=512, out_channels=512, kernel_size=3, stride=1, padding=1),\n",
    "            nn.BatchNorm2d(512),\n",
    "            nn.ReLU(),\n",
    "            nn.Dropout(0.4),\n",
    "            nn.Conv2d(in_channels=512, out_channels=512, kernel_size=3, stride=1, padding=1),\n",
    "            nn.BatchNorm2d(512),\n",
    "            nn.ReLU(),\n",
    "            nn.MaxPool2d(kernel_size=2, stride=2),\n",
    "            nn.Dropout(0.5))\n",
    "\n",
    "\n",
    "        # Fully Connected 1 (readout)\n",
    "        # Affine - ReLU - Dropout - Affine - Dropout - Softmax\n",
    "        self.layer6 = nn.Sequential(\n",
    "            nn.Linear(512 * 1 * 1, hidden_sizes[0]),\n",
    "            nn.BatchNorm1d(512),\n",
    "            nn.ReLU(),\n",
    "            nn.Dropout(0.5),\n",
    "            nn.Linear(hidden_sizes[0], num_classes))\n",
    "\n",
    "        # Initialize all parameters using kaiming normalization\n",
    "        self.init_weights_kaiming()\n",
    "    \n",
    "    def init_weights_kaiming(self):\n",
    "        #Use kaiming normalization to initialize the parameters\n",
    "        for layer in [self.layer1, self.layer2, self.layer3, self.layer4, self.layer5, self.layer6]:\n",
    "            for m in layer:\n",
    "                if type(m) == nn.Conv2d or type(m) == nn.Linear:\n",
    "                    m.weight = nn.init.kaiming_normal_(m.weight)\n",
    "\n",
    "    def forward(self, x):\n",
    "\n",
    "        out = self.layer1(x)\n",
    "        out = self.layer2(out)\n",
    "        out = self.layer3(out)\n",
    "        out = self.layer4(out)\n",
    "        out = self.layer5(out)\n",
    "        \n",
    "        out = out.view(out.size(0), -1)\n",
    "    \n",
    "        # Linear function (readout)\n",
    "        out = self.layer6(out)\n",
    "        \n",
    "        return out"
   ]
  },
  {
   "cell_type": "code",
   "execution_count": 9,
   "metadata": {},
   "outputs": [],
   "source": [
    "model = PytorchDeepConvNetVgg(input_channels, num_classes).to(device)\n",
    "# print(model)"
   ]
  },
  {
   "cell_type": "code",
   "execution_count": 10,
   "metadata": {},
   "outputs": [],
   "source": [
    "criterion = nn.CrossEntropyLoss()"
   ]
  },
  {
   "cell_type": "code",
   "execution_count": 11,
   "metadata": {},
   "outputs": [],
   "source": [
    "# optimizer = torch.optim.SGD(model.parameters(), lr=learning_rate, weight_decay= 0.0005, momentum=0.9, nesterov=True)\n",
    "\n",
    "# Use Adam as the optimizer\n",
    "optimizer = torch.optim.Adam(model.parameters(), lr=learning_rate)"
   ]
  },
  {
   "cell_type": "markdown",
   "metadata": {},
   "source": [
    "### Learning rate decay schedule"
   ]
  },
  {
   "cell_type": "code",
   "execution_count": 12,
   "metadata": {},
   "outputs": [],
   "source": [
    "exp_lr_scheduler = torch.optim.lr_scheduler.StepLR(optimizer, step_size=50, gamma=0.1)"
   ]
  },
  {
   "cell_type": "markdown",
   "metadata": {},
   "source": [
    "### Load pretrained model parameters"
   ]
  },
  {
   "cell_type": "code",
   "execution_count": 13,
   "metadata": {},
   "outputs": [],
   "source": [
    "# model.load_state_dict(torch.load('model_vgg.ckpt'))"
   ]
  },
  {
   "cell_type": "markdown",
   "metadata": {},
   "source": [
    "### Train model"
   ]
  },
  {
   "cell_type": "code",
   "execution_count": 14,
   "metadata": {},
   "outputs": [
    {
     "name": "stdout",
     "output_type": "stream",
     "text": [
      "learning rate: 0.001\n",
      "Iteration: 500. Loss: 1.556502103805542. Accuracy: 25\n",
      "Iteration: 1000. Loss: 1.960051417350769. Accuracy: 26\n",
      "Iteration: 1500. Loss: 1.6172677278518677. Accuracy: 39\n",
      "Iteration: 2000. Loss: 1.206192135810852. Accuracy: 56\n",
      "Iteration: 2500. Loss: 1.075927495956421. Accuracy: 61\n",
      "Iteration: 3000. Loss: 0.6692853569984436. Accuracy: 65\n",
      "Iteration: 3500. Loss: 0.8267354369163513. Accuracy: 72\n",
      "Iteration: 4000. Loss: 0.7272273898124695. Accuracy: 75\n",
      "Iteration: 4500. Loss: 0.46790122985839844. Accuracy: 77\n",
      "Iteration: 5000. Loss: 0.29556795954704285. Accuracy: 79\n",
      "Iteration: 5500. Loss: 0.3874938488006592. Accuracy: 78\n",
      "Iteration: 6000. Loss: 0.45472386479377747. Accuracy: 80\n",
      "Iteration: 6500. Loss: 0.2906818389892578. Accuracy: 79\n",
      "Iteration: 7000. Loss: 0.3037828505039215. Accuracy: 79\n",
      "Iteration: 7500. Loss: 0.29235517978668213. Accuracy: 79\n",
      "Iteration: 8000. Loss: 0.15710754692554474. Accuracy: 80\n",
      "Iteration: 8500. Loss: 0.1780746430158615. Accuracy: 79\n",
      "Iteration: 9000. Loss: 0.16069965064525604. Accuracy: 81\n",
      "Iteration: 9500. Loss: 0.13412219285964966. Accuracy: 82\n",
      "Iteration: 10000. Loss: 0.2083415538072586. Accuracy: 80\n",
      "Iteration: 10500. Loss: 0.13090842962265015. Accuracy: 80\n",
      "Iteration: 11000. Loss: 0.048750005662441254. Accuracy: 80\n",
      "Iteration: 11500. Loss: 0.0733935534954071. Accuracy: 80\n",
      "Iteration: 12000. Loss: 0.0377628430724144. Accuracy: 80\n",
      "Iteration: 12500. Loss: 0.04147207736968994. Accuracy: 80\n",
      "learning rate: 0.001\n",
      "Iteration: 13000. Loss: 0.02914765663444996. Accuracy: 81\n",
      "Iteration: 13500. Loss: 0.06000203639268875. Accuracy: 80\n",
      "Iteration: 14000. Loss: 0.04739491641521454. Accuracy: 81\n",
      "Iteration: 14500. Loss: 0.023609742522239685. Accuracy: 81\n",
      "Iteration: 15000. Loss: 0.07876774668693542. Accuracy: 81\n",
      "Iteration: 15500. Loss: 0.02993287332355976. Accuracy: 82\n",
      "Iteration: 16000. Loss: 0.08002883940935135. Accuracy: 81\n",
      "Iteration: 16500. Loss: 0.00872817076742649. Accuracy: 82\n",
      "Iteration: 17000. Loss: 0.059653379023075104. Accuracy: 82\n",
      "Iteration: 17500. Loss: 0.021944113075733185. Accuracy: 81\n",
      "Iteration: 18000. Loss: 0.0671965554356575. Accuracy: 79\n",
      "Iteration: 18500. Loss: 0.011447064578533173. Accuracy: 82\n",
      "Iteration: 19000. Loss: 0.04665545001626015. Accuracy: 82\n",
      "Iteration: 19500. Loss: 0.03598755970597267. Accuracy: 81\n",
      "Iteration: 20000. Loss: 0.06455696374177933. Accuracy: 82\n",
      "Iteration: 20500. Loss: 0.021942734718322754. Accuracy: 81\n",
      "Iteration: 21000. Loss: 0.07373718917369843. Accuracy: 81\n",
      "Iteration: 21500. Loss: 0.0361199676990509. Accuracy: 82\n",
      "Iteration: 22000. Loss: 0.04552343487739563. Accuracy: 82\n",
      "Iteration: 22500. Loss: 0.0017451667226850986. Accuracy: 82\n",
      "Iteration: 23000. Loss: 0.01646478660404682. Accuracy: 82\n",
      "Iteration: 23500. Loss: 0.0024311947636306286. Accuracy: 82\n",
      "Iteration: 24000. Loss: 0.012356520630419254. Accuracy: 82\n",
      "Iteration: 24500. Loss: 0.11943583190441132. Accuracy: 82\n",
      "Iteration: 25000. Loss: 0.02943268045783043. Accuracy: 82\n",
      "learning rate: 0.0001\n",
      "Iteration: 25500. Loss: 0.004668228793889284. Accuracy: 83\n",
      "Iteration: 26000. Loss: 0.00021128654771018773. Accuracy: 83\n",
      "Iteration: 26500. Loss: 3.089904930675402e-05. Accuracy: 83\n",
      "Iteration: 27000. Loss: 1.191616047435673e-05. Accuracy: 83\n",
      "Iteration: 27500. Loss: 6.537437457154738e-06. Accuracy: 83\n",
      "Iteration: 28000. Loss: 1.3518333616957534e-05. Accuracy: 83\n",
      "Iteration: 28500. Loss: 7.724761985627993e-07. Accuracy: 83\n",
      "Iteration: 29000. Loss: 9.53674295089968e-09. Accuracy: 83\n",
      "Iteration: 29500. Loss: 8.010864007701457e-07. Accuracy: 83\n",
      "Iteration: 30000. Loss: 1.0108947208209429e-06. Accuracy: 83\n",
      "Iteration: 30500. Loss: 0.0. Accuracy: 83\n",
      "Iteration: 31000. Loss: 2.670288097306184e-07. Accuracy: 83\n",
      "Iteration: 31500. Loss: 9.53674295089968e-09. Accuracy: 83\n",
      "Iteration: 32000. Loss: 0.0. Accuracy: 83\n",
      "Iteration: 32500. Loss: 0.0. Accuracy: 83\n",
      "Iteration: 33000. Loss: 9.53674295089968e-09. Accuracy: 83\n",
      "Iteration: 33500. Loss: 0.0. Accuracy: 83\n",
      "Iteration: 34000. Loss: 0.0. Accuracy: 83\n",
      "Iteration: 34500. Loss: 0.0. Accuracy: 83\n",
      "Iteration: 35000. Loss: 0.0. Accuracy: 83\n",
      "Iteration: 35500. Loss: 0.0. Accuracy: 83\n",
      "Iteration: 36000. Loss: 0.0. Accuracy: 83\n",
      "Iteration: 36500. Loss: 0.0. Accuracy: 83\n",
      "Iteration: 37000. Loss: 0.0. Accuracy: 83\n",
      "Iteration: 37500. Loss: 0.0. Accuracy: 83\n",
      "learning rate: 0.0001\n",
      "Iteration: 38000. Loss: 0.0. Accuracy: 83\n",
      "Iteration: 38500. Loss: 0.0. Accuracy: 83\n",
      "Iteration: 39000. Loss: 9.53674295089968e-09. Accuracy: 83\n",
      "Iteration: 39500. Loss: 0.0. Accuracy: 83\n",
      "Iteration: 40000. Loss: 0.0. Accuracy: 83\n",
      "Iteration: 40500. Loss: 0.0. Accuracy: 83\n",
      "Iteration: 41000. Loss: 0.0. Accuracy: 83\n",
      "Iteration: 41500. Loss: 0.0. Accuracy: 83\n",
      "Iteration: 42000. Loss: 0.0. Accuracy: 83\n",
      "Iteration: 42500. Loss: 0.0. Accuracy: 83\n",
      "Iteration: 43000. Loss: 0.0. Accuracy: 83\n",
      "Iteration: 43500. Loss: 0.0. Accuracy: 83\n",
      "Iteration: 44000. Loss: 0.0. Accuracy: 83\n",
      "Iteration: 44500. Loss: 0.0. Accuracy: 83\n",
      "Iteration: 45000. Loss: 0.0. Accuracy: 83\n",
      "Iteration: 45500. Loss: 0.0. Accuracy: 83\n",
      "Iteration: 46000. Loss: 0.0. Accuracy: 83\n",
      "Iteration: 46500. Loss: 0.0. Accuracy: 83\n",
      "Iteration: 47000. Loss: 0.0. Accuracy: 83\n",
      "Iteration: 47500. Loss: 0.0. Accuracy: 83\n",
      "Iteration: 48000. Loss: 0.0. Accuracy: 83\n",
      "Iteration: 48500. Loss: 0.0. Accuracy: 83\n",
      "Iteration: 49000. Loss: 0.0. Accuracy: 83\n",
      "Iteration: 49500. Loss: 0.0. Accuracy: 83\n",
      "Iteration: 50000. Loss: 0.0. Accuracy: 83\n"
     ]
    }
   ],
   "source": [
    "iter = 0\n",
    "accuracies = []\n",
    "for epoch in range(num_epochs):\n",
    "    \n",
    "    # Learning rate decay\n",
    "    exp_lr_scheduler.step()\n",
    "\n",
    "    # Print current learning rate\n",
    "    if epoch % 25 == 0:\n",
    "        print('learning rate:', optimizer.param_groups[0]['lr'])\n",
    "\n",
    "    for i, (images, labels) in enumerate(train_loader):\n",
    "        \n",
    "        # Load images as Variable\n",
    "        images = Variable(images).to(device)\n",
    "        labels = Variable(labels).to(device)\n",
    "        \n",
    "        # Clear gradients w.r.t parameters\n",
    "        optimizer.zero_grad()\n",
    "        \n",
    "        # Forward pass to get output/logits\n",
    "        outputs = model(images)\n",
    "        \n",
    "        # Calculate Loss: Softmax --> cross entropy loss\n",
    "        loss = criterion(outputs, labels)\n",
    "        \n",
    "        # Getting gradients w.r.t paramters\n",
    "        loss.backward()\n",
    "        \n",
    "        # Updating parameters\n",
    "        optimizer.step()\n",
    "        \n",
    "        iter += 1 \n",
    "\n",
    "        if iter % 500 == 0:\n",
    "            correct = 0\n",
    "            total = 0\n",
    "            model.eval()\n",
    "            with torch.no_grad():            \n",
    "                for images, labels in test_loader:\n",
    "                    images = Variable(images).to(device)\n",
    "                    outputs = model(images)\n",
    "\n",
    "                    _, predicted = torch.max(outputs.data, 1)\n",
    "\n",
    "                    # Total numer of labels\n",
    "                    total += labels.size(0)\n",
    "\n",
    "                    correct += (predicted.to(device) == labels.to(device)).sum()\n",
    "\n",
    "                accuracy = 100 * correct / total\n",
    "                accuracies.append(accuracy)\n",
    "        \n",
    "            # Print Loss\n",
    "            print('Iteration: {}. Loss: {}. Accuracy: {}'.format(iter, loss.data.item(), accuracy))\n"
   ]
  },
  {
   "cell_type": "code",
   "execution_count": 15,
   "metadata": {},
   "outputs": [
    {
     "name": "stdout",
     "output_type": "stream",
     "text": [
      "Test Accuracy of the model on the 10000 test images: 83.71 %\n"
     ]
    }
   ],
   "source": [
    "model.eval()\n",
    "with torch.no_grad():\n",
    "    correct = 0\n",
    "    total = 0\n",
    "    for images, labels in test_loader:\n",
    "        images = Variable(images).to(device)\n",
    "        labels = Variable(labels).to(device)\n",
    "        outputs = model(images)\n",
    "        _, predicted = torch.max(outputs.data, 1)\n",
    "        total += labels.size(0)\n",
    "        correct += (predicted == labels).sum().item()\n",
    "        \n",
    "    print('Test Accuracy of the model on the 10000 test images: {} %'.format(100 * correct / total))\n"
   ]
  },
  {
   "cell_type": "code",
   "execution_count": 16,
   "metadata": {},
   "outputs": [
    {
     "name": "stdout",
     "output_type": "stream",
     "text": [
      "Test Accuracy of the model on the 50000 train images: 100.0 %\n"
     ]
    }
   ],
   "source": [
    "model.eval()\n",
    "with torch.no_grad():\n",
    "    correct = 0\n",
    "    total = 0\n",
    "    for images, labels in train_loader:\n",
    "        images = Variable(images).to(device)\n",
    "        labels = Variable(labels).to(device)\n",
    "        outputs = model(images)\n",
    "        _, predicted = torch.max(outputs.data, 1)\n",
    "        total += labels.size(0)\n",
    "        correct += (predicted == labels).sum().item()\n",
    "        \n",
    "    print('Test Accuracy of the model on the 50000 train images: {} %'.format(100 * correct / total))"
   ]
  },
  {
   "cell_type": "markdown",
   "metadata": {},
   "source": [
    "### Test memo:\n",
    "\n",
    "\n",
    "|dataset size(train/test)|#epoch|      model  |  optimizer | parameters |lr| accuracy(test/train)  |\n",
    "|-----------------------|-------|--------------|------------|------------|--|------------|\n",
    "|50000/10000|25|(conv - relu - conv- relu - pool)x2, Linearx1 |torch.optim.Adam|Kaiming He|0.001| 69.43%/ 88.28%|\n",
    "|50000/10000|25|(conv - relu - conv- relu - pool)x3, linear-relu-dropout-linear-dropout |torch.optim.Adam|Kaiming He|0.001| 70.83%/ 96.01%|\n",
    "|50000/10000|25|vgg16 |torch.optim.Adam|Kaiming He|0.001| 81.01%/  97.64%|\n",
    "|50000/10000|50|vgg16 |torch.optim.Adam|Kaiming He|0.001| 83.66%/  99.74%|\n",
    "|50000/10000|100|vgg16 |torch.optim.Adam|Kaiming He|0.001->(50epoch)0.0001|  83.71%/  100.0%|\n",
    "\n"
   ]
  },
  {
   "cell_type": "code",
   "execution_count": 17,
   "metadata": {},
   "outputs": [],
   "source": [
    "# Save the model checkpoint\n",
    "torch.save(model.state_dict(), 'model_vgg.ckpt')"
   ]
  },
  {
   "cell_type": "code",
   "execution_count": 89,
   "metadata": {},
   "outputs": [],
   "source": [
    "# Added dropout layer refers to http://torch.ch/blog/2015/07/30/cifar.html"
   ]
  },
  {
   "cell_type": "code",
   "execution_count": null,
   "metadata": {},
   "outputs": [],
   "source": []
  }
 ],
 "metadata": {
  "kernelspec": {
   "display_name": "Python 3",
   "language": "python",
   "name": "python3"
  },
  "language_info": {
   "codemirror_mode": {
    "name": "ipython",
    "version": 3
   },
   "file_extension": ".py",
   "mimetype": "text/x-python",
   "name": "python",
   "nbconvert_exporter": "python",
   "pygments_lexer": "ipython3",
   "version": "3.6.5"
  }
 },
 "nbformat": 4,
 "nbformat_minor": 2
}
